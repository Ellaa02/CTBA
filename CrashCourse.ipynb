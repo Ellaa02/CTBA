{
 "cells": [
  {
   "cell_type": "code",
   "execution_count": 107,
   "id": "f6c4e89d",
   "metadata": {},
   "outputs": [
    {
     "name": "stdout",
     "output_type": "stream",
     "text": [
      "7\n",
      "data\n",
      "10\n",
      "15\n"
     ]
    }
   ],
   "source": [
    "x = 7\n",
    "y = \"data\"\n",
    "\n",
    "print(x)\n",
    "print(y)\n",
    "\n",
    "my_variable = 10\n",
    "print(my_variable)\n",
    "\n",
    "my_variable += 5\n",
    "print(my_variable)\n"
   ]
  },
  {
   "cell_type": "markdown",
   "id": "5389cd74",
   "metadata": {},
   "source": [
    "Working with Strings"
   ]
  },
  {
   "cell_type": "code",
   "execution_count": 108,
   "id": "5211ed87",
   "metadata": {},
   "outputs": [
    {
     "name": "stdout",
     "output_type": "stream",
     "text": [
      "What are you Studying?\n",
      "Analytics\n",
      "What are you Studying? Analytics\n",
      "What are you Studying? Analytics\n"
     ]
    }
   ],
   "source": [
    "\"Im into Data Science\"\n",
    "\n",
    "question = \"What are you Studying?\"\n",
    "answer = \"Analytics\"\n",
    "\n",
    "print(question)\n",
    "print(answer)\n",
    "\n",
    "print(question + \" \" + answer)\n",
    "\n",
    "print(f\"{question} {answer}\")\n",
    "## This is another way to put strings together\n"
   ]
  },
  {
   "cell_type": "code",
   "execution_count": 109,
   "id": "e1a7098e",
   "metadata": {},
   "outputs": [
    {
     "name": "stdout",
     "output_type": "stream",
     "text": [
      "What are you Studying?\n",
      "Analytics\n"
     ]
    },
    {
     "data": {
      "text/plain": [
       "9"
      ]
     },
     "execution_count": 109,
     "metadata": {},
     "output_type": "execute_result"
    }
   ],
   "source": [
    "## new line character within a string\n",
    "print(question +  \"\\n\" + answer)\n",
    "\n",
    "type(answer) # tells class\n",
    "len(answer)"
   ]
  },
  {
   "cell_type": "code",
   "execution_count": 110,
   "id": "711d1305",
   "metadata": {},
   "outputs": [
    {
     "name": "stdout",
     "output_type": "stream",
     "text": [
      "Analytics\n"
     ]
    },
    {
     "data": {
      "text/plain": [
       "'s'"
      ]
     },
     "execution_count": 110,
     "metadata": {},
     "output_type": "execute_result"
    }
   ],
   "source": [
    "print(answer)\n",
    "answer[0]\n",
    "answer[2]\n",
    "#answer[9] # 10th character = not valid: there is no 10th character\n",
    "\n",
    "answer[-1] # last character"
   ]
  },
  {
   "cell_type": "code",
   "execution_count": 111,
   "id": "95afef29",
   "metadata": {},
   "outputs": [
    {
     "name": "stdout",
     "output_type": "stream",
     "text": [
      "4\n",
      "CT\n"
     ]
    }
   ],
   "source": [
    "course = \"CTBA\"\n",
    "\n",
    "print(len(course))\n",
    "print(course[0:2]) # first two characters"
   ]
  },
  {
   "cell_type": "markdown",
   "id": "dd331f70",
   "metadata": {},
   "source": [
    "Methods and Functions\n",
    "* A function is a reusable block of code that performs a specific task. It is not tied to any object and is called    using its name followed by parentheses.\n",
    "* Defined independently from a specific python object/class\n",
    "* Called by its name only\n",
    "\n"
   ]
  },
  {
   "cell_type": "code",
   "execution_count": 112,
   "id": "d5741b72",
   "metadata": {},
   "outputs": [
    {
     "name": "stdout",
     "output_type": "stream",
     "text": [
      "ANALYTICS\n"
     ]
    }
   ],
   "source": [
    "#using the upper method to the make the string uppercase\n",
    "answer_cap = answer.upper()\n",
    "print(answer_cap)"
   ]
  },
  {
   "cell_type": "code",
   "execution_count": 113,
   "id": "11099278",
   "metadata": {},
   "outputs": [
    {
     "name": "stdout",
     "output_type": "stream",
     "text": [
      "analytics\n"
     ]
    }
   ],
   "source": [
    "#using the lower method to the make the string lowercase\n",
    "answer_lower = answer.lower()   \n",
    "print(answer_lower)"
   ]
  },
  {
   "cell_type": "code",
   "execution_count": 114,
   "id": "2cd7738a",
   "metadata": {},
   "outputs": [
    {
     "data": {
      "text/plain": [
       "5"
      ]
     },
     "execution_count": 114,
     "metadata": {},
     "output_type": "execute_result"
    }
   ],
   "source": [
    "answer.find(\"t\") # finds the first occurance of the letter \"t\""
   ]
  },
  {
   "cell_type": "markdown",
   "id": "fb704fbb",
   "metadata": {},
   "source": [
    "Adding Text and f-strings"
   ]
  },
  {
   "cell_type": "code",
   "execution_count": 115,
   "id": "27061112",
   "metadata": {},
   "outputs": [
    {
     "name": "stdout",
     "output_type": "stream",
     "text": [
      "Hello, I amElla Pan. It's nice to meet you!\n",
      "Hello, I am Ella Pan. It's nice to meet you!\n"
     ]
    }
   ],
   "source": [
    "name = \"Ella Pan\"\n",
    "print(\"Hello, I am\" + name + \". It's nice to meet you!\")\n",
    "\n",
    "##rewrite this using f strings\n",
    "print(f\"Hello, I am {name}. It's nice to meet you!\")"
   ]
  },
  {
   "cell_type": "markdown",
   "id": "3a61a8b7",
   "metadata": {},
   "source": [
    "Tuple\n",
    "* A tuple is an ordered, immutable collection of items. It is created using parentheses () and can contain elements of any data type."
   ]
  },
  {
   "cell_type": "code",
   "execution_count": 116,
   "id": "b2681025",
   "metadata": {},
   "outputs": [
    {
     "name": "stdout",
     "output_type": "stream",
     "text": [
      "(1, 2, 3, 4, 5)\n"
     ]
    }
   ],
   "source": [
    "##Tuple example\n",
    "t1 = (1,2,3,4,5)\n",
    "print(t1)\n",
    "\n",
    "# t1[0] = 11 # This will raise an error because tuples are immutable\n",
    "#This line raises an error because tuples are immutable. Immutable means you cannot change, add, or delete elements after the tuple is created."
   ]
  },
  {
   "cell_type": "markdown",
   "id": "48135b45",
   "metadata": {},
   "source": [
    "Dictionary\n",
    "* A dictionary is a built-in Python data type that stores data as key-value pairs\n",
    "    * a key is the identifier used to access a value\n",
    "        * keys must be unique and immutable (like strings, numbers, or tuples)\n",
    "        * Each key maps to a corresponding value.\n",
    "        * You use the key inside square brackets or with .get() to retrieve its value.\n",
    "    * Values can ne any data type(including lists other dictionaries, etc.)\n",
    "    *Dictionaries are unordered (prior to Python 3.7) and mutable, meaning you can add, change, or remove items"
   ]
  },
  {
   "cell_type": "code",
   "execution_count": 117,
   "id": "3cf233ab",
   "metadata": {},
   "outputs": [
    {
     "name": "stdout",
     "output_type": "stream",
     "text": [
      "Ella Pan\n",
      "{'name': 'Ella Pan', 'age': 23, 'city': 'Williamsburg', 'email': 'xpan02@wm.edu'}\n"
     ]
    }
   ],
   "source": [
    "##dictionary example\n",
    "d1 = {\"name\": \"Ella Pan\", \"age\": 22, \"city\": \"Williamsburg\"}\n",
    "\n",
    "print(d1[\"name\"])\n",
    "d1[\"age\"] = 23 #updates age to 23\n",
    "\n",
    "d1[\"email\"] = \"xpan02@wm.edu\"\n",
    "\n",
    "print(d1)"
   ]
  },
  {
   "cell_type": "code",
   "execution_count": 118,
   "id": "3485d8da",
   "metadata": {},
   "outputs": [
    {
     "name": "stdout",
     "output_type": "stream",
     "text": [
      "name : Ella Pan\n",
      "age : 23\n",
      "city : Williamsburg\n",
      "email : xpan02@wm.edu\n"
     ]
    }
   ],
   "source": [
    "# Using .itmes in for loop\n",
    "# items() returns a view object containing the dictionary’s (key, value) pairs. It is commonly used in loops to iterate through both the keys and values.\n",
    "\n",
    "for key, value in d1.items():\n",
    "    print (key, \":\", value)\n"
   ]
  },
  {
   "cell_type": "markdown",
   "id": "86a10342",
   "metadata": {},
   "source": [
    "Dictionary of Dictionaries"
   ]
  },
  {
   "cell_type": "code",
   "execution_count": 119,
   "id": "35d2efb6",
   "metadata": {},
   "outputs": [
    {
     "name": "stdout",
     "output_type": "stream",
     "text": [
      "{'person1': {'name': 'Ella Pan', 'age': 22, 'city': 'Williamsburg'}, 'person2': {'name': 'Francis Dayan', 'age': 22, 'city': 'Burlingame'}}\n"
     ]
    }
   ],
   "source": [
    "people = {\n",
    "    \"person1\" : {\"name\": \"Ella Pan\", \"age\": 22, \"city\": \"Williamsburg\"},\n",
    "    \"person2\" : {\"name\": \"Francis Dayan\", \"age\": 22, \"city\": \"Burlingame\"},\n",
    "}\n",
    "print(people)"
   ]
  },
  {
   "cell_type": "code",
   "execution_count": 120,
   "id": "de18b5f5",
   "metadata": {},
   "outputs": [
    {
     "name": "stdout",
     "output_type": "stream",
     "text": [
      "{'A': {'B': 10, 'C': 15}, 'B': {'A': 10, 'C': 20}, 'C': {'A': 15, 'B': 20}}\n"
     ]
    }
   ],
   "source": [
    "distances = {\n",
    "    \"A\" : {\"B\" : 10, \"C\" : 15},\n",
    "    \"B\" : {\"A\" : 10, \"C\" : 20},\n",
    "    \"C\" : {\"A\" : 15, \"B\" : 20}\n",
    "}\n",
    "print(distances)"
   ]
  },
  {
   "cell_type": "code",
   "execution_count": 121,
   "id": "bb26610d",
   "metadata": {},
   "outputs": [
    {
     "name": "stdout",
     "output_type": "stream",
     "text": [
      "{'Alice': {'GPA': 3.6, 'Major': 'Computer Science', '#courses': 5}, 'Bob': {'GPA': 3.8, 'Major': 'Mathematics', '#courses': 4}, 'Charlie': {'GPA': 3.2, 'Major': 'Physics', '#courses': 5}, 'Ella': {'GPA': 3.9, 'Major': 'Psychology', '#courses': 6}}\n"
     ]
    }
   ],
   "source": [
    "## practice problems\n",
    "student_gpa = {\n",
    "    \"Alice\" : {\"GPA\" : 3.6, \"Major\" : \"Computer Science\", \"#courses\" : 5},\n",
    "    \"Bob\" : {\"GPA\" : 3.8, \"Major\" : \"Mathematics\", \"#courses\" : 4},\n",
    "    \"Charlie\" : {\"GPA\" : 3.2, \"Major\" : \"Physics\", \"#courses\" : 5},\n",
    "    \"Ella\" : {\"GPA\" : 3.9, \"Major\" : \"Psychology\", \"#courses\" : 6}\n",
    "}\n",
    "\n",
    "print(student_gpa)\n"
   ]
  },
  {
   "cell_type": "markdown",
   "id": "4bdb50c8",
   "metadata": {},
   "source": [
    "If Statement\n",
    "* the if keyword checks if a condition is true"
   ]
  },
  {
   "cell_type": "code",
   "execution_count": 122,
   "id": "bbf37049",
   "metadata": {},
   "outputs": [
    {
     "name": "stdout",
     "output_type": "stream",
     "text": [
      "10 is greater than 5\n"
     ]
    }
   ],
   "source": [
    "## if statements in pthon\n",
    "x = 10\n",
    "if x > 5:\n",
    "    print(f\"{x} is greater than 5\")"
   ]
  },
  {
   "cell_type": "code",
   "execution_count": 123,
   "id": "e127ccfb",
   "metadata": {},
   "outputs": [
    {
     "name": "stdout",
     "output_type": "stream",
     "text": [
      "x is even\n",
      "x is not divisible by 3\n"
     ]
    }
   ],
   "source": [
    "## if else statement\n",
    "x = 4\n",
    "if x %2 == 0:\n",
    "    print(\"x is even\")\n",
    "else:\n",
    "    print(\"x is odd\")\n",
    "\n",
    "\n",
    "#practice\n",
    "if x % 3 == 0:\n",
    "    print(\"x is divisible by 3\")\n",
    "else:\n",
    "    print(\"x is not divisible by 3\")"
   ]
  },
  {
   "cell_type": "markdown",
   "id": "14b80a2b",
   "metadata": {},
   "source": [
    "Loops"
   ]
  },
  {
   "cell_type": "code",
   "execution_count": 124,
   "id": "a36c4548",
   "metadata": {},
   "outputs": [
    {
     "name": "stdout",
     "output_type": "stream",
     "text": [
      "i is:  0\n",
      "i is:  1\n",
      "i is:  2\n",
      "i is:  3\n",
      "i is:  4\n"
     ]
    }
   ],
   "source": [
    "range(5) # generates numbers from 0 to 4\n",
    "\n",
    "for i in range(5):\n",
    "    print(\"i is: \" , i)"
   ]
  },
  {
   "cell_type": "code",
   "execution_count": 125,
   "id": "7089d705",
   "metadata": {},
   "outputs": [
    {
     "name": "stdout",
     "output_type": "stream",
     "text": [
      "x is even\n",
      "x is odd\n",
      "x is even\n",
      "x is odd\n",
      "x is even\n"
     ]
    }
   ],
   "source": [
    "#while loop\n",
    "\n",
    "x = 0\n",
    "\n",
    "while x < 5:\n",
    "    if x % 2 == 0:\n",
    "        print(\"x is even\")\n",
    "    else:\n",
    "        print(\"x is odd\")\n",
    "    x += 1\n",
    "    "
   ]
  },
  {
   "attachments": {
    "image.png": {
     "image/png": "[encoded data removed]"
    }
   },
   "cell_type": "markdown",
   "id": "1a34587c",
   "metadata": {},
   "source": [
    "Intro to Functions\n",
    "\n",
    "![image.png](attachment:image.png)"
   ]
  },
  {
   "cell_type": "code",
   "execution_count": null,
   "id": "355b8cec",
   "metadata": {},
   "outputs": [],
   "source": [
    "import numpy as np"
   ]
  }
 ],
 "metadata": {
  "kernelspec": {
   "display_name": "CTBA",
   "language": "python",
   "name": "python3"
  },
  "language_info": {
   "codemirror_mode": {
    "name": "ipython",
    "version": 3
   },
   "file_extension": ".py",
   "mimetype": "text/x-python",
   "name": "python",
   "nbconvert_exporter": "python",
   "pygments_lexer": "ipython3",
   "version": "3.13.5"
  }
 },
 "nbformat": 4,
 "nbformat_minor": 5
}
